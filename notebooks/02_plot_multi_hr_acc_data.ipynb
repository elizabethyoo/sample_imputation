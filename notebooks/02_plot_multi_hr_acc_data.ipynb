{
 "cells": [
  {
   "cell_type": "markdown",
   "id": "3887e59a",
   "metadata": {},
   "source": [
    "# Beiwe Sample Dataset Accelerometer EDA Pt. 3\n",
    "\n",
    "Test helper functions to load, summarize, and visualize multiple hours' worth of accelerometer data \n"
   ]
  },
  {
   "cell_type": "code",
   "execution_count": 1,
   "id": "f2cbcced",
   "metadata": {},
   "outputs": [],
   "source": [
    "%load_ext autoreload\n",
    "%autoreload 2 \n",
    "\n",
    "\n",
    "import pyarrow.parquet as pq\n",
    "import pyarrow as pa\n",
    "from datetime import timedelta\n",
    "from collections import defaultdict\n",
    "from pathlib import Path\n",
    "\n",
    "import re\n",
    "import random\n",
    "import math\n",
    "import warnings\n",
    "import logging\n",
    "from typing import List, Dict, Tuple, Optional\n",
    "import numpy as np\n",
    "import pandas as pd\n",
    "import pytz\n",
    "import matplotlib.pyplot as plt"
   ]
  },
  {
   "cell_type": "code",
   "execution_count": 5,
   "id": "969e028e",
   "metadata": {},
   "outputs": [],
   "source": [
    "# import helper functions\n",
    "import os\n",
    "import sys\n",
    "\n",
    "sys.path.append('../src') \n",
    "from helper import summarize_period, plot_data_availability, plot_sampling_time, plot_mean_magnitude\n"
   ]
  },
  {
   "cell_type": "code",
   "execution_count": null,
   "id": "b18b82cc",
   "metadata": {},
   "outputs": [],
   "source": []
  }
 ],
 "metadata": {
  "kernelspec": {
   "display_name": "New OOD forest_env",
   "language": "python",
   "name": "forest_env"
  },
  "language_info": {
   "codemirror_mode": {
    "name": "ipython",
    "version": 3
   },
   "file_extension": ".py",
   "mimetype": "text/x-python",
   "name": "python",
   "nbconvert_exporter": "python",
   "pygments_lexer": "ipython3",
   "version": "3.12.5"
  }
 },
 "nbformat": 4,
 "nbformat_minor": 5
}
