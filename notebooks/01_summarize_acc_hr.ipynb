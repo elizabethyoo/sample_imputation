{
 "cells": [
  {
   "cell_type": "markdown",
   "id": "911012b0",
   "metadata": {},
   "source": [
    "# Beiwe Sample Dataset Accelerometer EDA Pt. 2\n",
    "\n",
    "Prototype helper functions to load and summarize an hour's worth of accelerometer data \n"
   ]
  },
  {
   "cell_type": "code",
   "execution_count": 35,
   "id": "b1a709d8",
   "metadata": {},
   "outputs": [
    {
     "name": "stdout",
     "output_type": "stream",
     "text": [
      "The autoreload extension is already loaded. To reload it, use:\n",
      "  %reload_ext autoreload\n"
     ]
    }
   ],
   "source": [
    "%load_ext autoreload\n",
    "%autoreload 2 \n",
    "\n",
    "import pandas as pd\n",
    "import numpy as np\n",
    "\n",
    "# TODO: move to its own script\n",
    "def summarize_hourly_file(file_path):\n",
    "    \"\"\"Analyze a single hourly accelerometer CSV file.\"\"\"\n",
    "    \n",
    "    # Load file\n",
    "    df = pd.read_csv(file_path)\n",
    "\n",
    "    # Convert timestamps\n",
    "    df['datetime_utc'] = pd.to_datetime(df['timestamp'], unit='ms', utc=True)\n",
    "\n",
    "    # Compute magnitude\n",
    "    df['magnitude'] = np.sqrt(df['x']**2 + df['y']**2 + df['z']**2)\n",
    "\n",
    "    # Calculate metrics\n",
    "    n_rows = len(df)\n",
    "    start_time = df['datetime_utc'].iloc[0]\n",
    "    end_time = df['datetime_utc'].iloc[-1]\n",
    "    \n",
    "    # Duration in minutes\n",
    "    duration_sec = (end_time - start_time).total_seconds()\n",
    "    duration_min = duration_sec / 60\n",
    "    \n",
    "    # Sampling time in minutes (at 10 Hz)\n",
    "    sampling_min = n_rows / 10 / 60\n",
    "    \n",
    "    # Duty cycle\n",
    "    duty_cycle = sampling_min / duration_min\n",
    "    \n",
    "    # Count bursts\n",
    "    df['time_diff_ms'] = df['timestamp'].diff()\n",
    "    gaps = df['time_diff_ms'] > 1000 \n",
    "    gaps_count = gaps.sum()\n",
    "    n_bursts = gaps_count + 1\n",
    "    \n",
    "    # Mean magnitude\n",
    "    mean_magnitude = df['magnitude'].mean()\n",
    "\n",
    "    return {\n",
    "        'n_rows': n_rows,\n",
    "        'start_time': start_time,\n",
    "        'end_time': end_time,\n",
    "        'duration_min': duration_min,\n",
    "        'sampling_min': sampling_min,\n",
    "        'duty_cycle': duty_cycle,\n",
    "       'n_bursts': n_bursts,\n",
    "        'mean_magnitude': mean_magnitude\n",
    "    }"
   ]
  },
  {
   "cell_type": "markdown",
   "id": "c5f68631",
   "metadata": {},
   "source": [
    "Check that summarize_hourly_file() works on the hr_9 CSV "
   ]
  },
  {
   "cell_type": "code",
   "execution_count": 36,
   "id": "93f67d0d",
   "metadata": {},
   "outputs": [
    {
     "name": "stdout",
     "output_type": "stream",
     "text": [
      "{'n_rows': 18090, 'start_time': Timestamp('2022-03-26 09:00:38.792000+0000', tz='UTC'), 'end_time': Timestamp('2022-03-26 09:59:39.055000+0000', tz='UTC'), 'duration_min': 59.00438333333333, 'sampling_min': 30.15, 'duty_cycle': 0.5109789865894144, 'n_bursts': np.int64(30), 'mean_magnitude': np.float64(1.0069258994313353)}\n"
     ]
    }
   ],
   "source": [
    "base_path = \"/n/home01/egraff/sample_imputation/data/raw/3si9xdvl/accelerometer/\"\n",
    "test_file_path = base_path + \"2022-03-26 09_00_00+00_00.csv\"\n",
    "\n",
    "result = summarize_hourly_file(test_file_path)\n",
    "print(result)"
   ]
  },
  {
   "cell_type": "markdown",
   "id": "8be83b39",
   "metadata": {},
   "source": [
    "Now try on different files "
   ]
  },
  {
   "cell_type": "code",
   "execution_count": null,
   "id": "23a28c91",
   "metadata": {},
   "outputs": [],
   "source": []
  },
  {
   "cell_type": "code",
   "execution_count": null,
   "id": "71403209",
   "metadata": {},
   "outputs": [],
   "source": []
  }
 ],
 "metadata": {
  "kernelspec": {
   "display_name": "New OOD forest_env",
   "language": "python",
   "name": "forest_env"
  },
  "language_info": {
   "codemirror_mode": {
    "name": "ipython",
    "version": 3
   },
   "file_extension": ".py",
   "mimetype": "text/x-python",
   "name": "python",
   "nbconvert_exporter": "python",
   "pygments_lexer": "ipython3",
   "version": "3.12.5"
  }
 },
 "nbformat": 4,
 "nbformat_minor": 5
}
